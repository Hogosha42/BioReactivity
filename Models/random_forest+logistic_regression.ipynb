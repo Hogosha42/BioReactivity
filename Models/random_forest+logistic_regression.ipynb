{
 "cells": [
  {
   "cell_type": "markdown",
   "metadata": {},
   "source": [
    "## Extracting data"
   ]
  },
  {
   "cell_type": "code",
   "execution_count": 1,
   "metadata": {},
   "outputs": [],
   "source": [
    "from rdkit import Chem\n",
    "from rdkit.Chem import Descriptors\n",
    "import pandas as pd\n",
    "import numpy as np\n",
    "import csv\n",
    "\n",
    "#Extracting training data\n",
    "df = pd.read_csv('train.csv')\n",
    "mols = [Chem.MolFromSmiles(mol) for mol in df['SMILES_canonical']]\n",
    "X = np.array([[d[1](m) for d in Descriptors._descList] for m in mols])\n",
    "Y = np.array(df['target_feature'])\n",
    "\n",
    "#Extracting test data for making prediction\n",
    "df_test = pd.read_csv('test.csv')\n",
    "mols_test = [Chem.MolFromSmiles(mol) for mol in df_test['SMILES_canonical']]\n",
    "X_test = np.array([[d[1](m) for d in Descriptors._descList] for m in mols_test])\n"
   ]
  },
  {
   "cell_type": "markdown",
   "metadata": {},
   "source": [
    "## data splitting and scaling, PCA"
   ]
  },
  {
   "cell_type": "code",
   "execution_count": 2,
   "metadata": {},
   "outputs": [
    {
     "name": "stdout",
     "output_type": "stream",
     "text": [
      "(4987, 80) (1247, 80) (6233, 80)\n"
     ]
    }
   ],
   "source": [
    "from sklearn.model_selection import train_test_split\n",
    "from sklearn.preprocessing import StandardScaler\n",
    "from sklearn.decomposition import PCA\n",
    "\n",
    "#splitting data in training and testing data\n",
    "X_train, X_val, y_train, y_val = train_test_split(X, Y, test_size=0.2)\n",
    "\n",
    "'''Scaling and PCA are done after splitting to prevent data leakage'''\n",
    "\n",
    "#scale data\n",
    "scaler = StandardScaler()\n",
    "X_train_scaled = scaler.fit_transform(X_train)\n",
    "X_val_scaled = scaler.transform(X_val)\n",
    "X_test_scaled= scaler.transform(X_test)\n",
    "X_test_scaled= scaler.transform(X_test)\n",
    "\n",
    "#Perfrom pca and transform data\n",
    "pca = PCA(0.95)\n",
    "X_train_pca = pca.fit_transform(X_train_scaled)\n",
    "X_val_pca = pca.transform(X_val_scaled)\n",
    "X_test_pca = pca.transform(X_test_scaled)\n",
    "\n",
    "\n",
    "print(X_train_pca.shape, X_val_pca.shape, X_test_pca.shape)"
   ]
  },
  {
   "cell_type": "markdown",
   "metadata": {},
   "source": [
    "## Export to CSV\n"
   ]
  },
  {
   "cell_type": "code",
   "execution_count": 9,
   "metadata": {},
   "outputs": [],
   "source": [
    "def export_scv(filename, prediction_list):\n",
    "    with open (filename , 'w', newline = '') as csvfile:\n",
    "        colum_names = ['Unique_ID', 'target_feature']\n",
    "\n",
    "        writer = csv.DictWriter(csvfile, fieldnames= colum_names)\n",
    "        writer.writeheader()\n",
    "\n",
    "        molecule_counter = 0\n",
    "        for i in range(len(prediction_list)):\n",
    "            molecule_counter += 1\n",
    "            writer.writerow({'Unique_ID' : molecule_counter, 'target_feature' : prediction_list[i]})"
   ]
  },
  {
   "cell_type": "markdown",
   "metadata": {},
   "source": [
    "## random forest model"
   ]
  },
  {
   "cell_type": "code",
   "execution_count": 7,
   "metadata": {},
   "outputs": [
    {
     "name": "stdout",
     "output_type": "stream",
     "text": [
      "balanced accuracy: 0.9316009194057975 \n",
      " precision: 0.9045643153526971 \n",
      " recall: 0.8861788617886179\n"
     ]
    }
   ],
   "source": [
    "from sklearn.ensemble import RandomForestClassifier\n",
    "from sklearn.metrics import balanced_accuracy_score, precision_score, recall_score\n",
    "\n",
    "#Random forrest algorithm\n",
    "forest = RandomForestClassifier(max_leaf_nodes = 100, class_weight='balanced', max_depth=15, bootstrap=True, random_state = 3)\n",
    "forest.fit(X_train_scaled, y_train)\n",
    "\n",
    "#Predict y values from X_val_pca and produce balanced accuracy, precision and recall \n",
    "y_pred_forest = forest.predict(X_val_scaled)\n",
    "print('balanced accuracy:',balanced_accuracy_score(y_val, y_pred_forest),'\\n', 'precision:',precision_score(y_val, y_pred_forest), '\\n', 'recall:', recall_score(y_val, y_pred_forest))\n",
    "\n",
    "#Prediction on test data\n",
    "y_pred_forest_test = forest.predict(X_test_scaled)\n",
    "\n",
    "#Exporting prediction to cvs file\n",
    "#export_scv('forest_predictions.csv', y_pred_forest_test)\n",
    "\n"
   ]
  },
  {
   "cell_type": "markdown",
   "metadata": {},
   "source": []
  },
  {
   "cell_type": "markdown",
   "metadata": {},
   "source": [
    "## logistic regression model"
   ]
  },
  {
   "cell_type": "code",
   "execution_count": 8,
   "metadata": {},
   "outputs": [
    {
     "name": "stdout",
     "output_type": "stream",
     "text": [
      "balanced accuracy: 0.9487748024333391 \n",
      " precision: 0.7727272727272727 \n",
      " recall: 0.967479674796748\n"
     ]
    }
   ],
   "source": [
    "from sklearn.linear_model import LogisticRegression\n",
    "from sklearn.metrics import balanced_accuracy_score, precision_score, recall_score\n",
    "\n",
    "#Logistic regression algorithm\n",
    "reg = LogisticRegression(class_weight='balanced', max_iter= 200)\n",
    "reg.fit(X_train_pca, y_train)\n",
    "\n",
    "#Predict y values from X_val_pca and produce balanced accuracy, precision and recall  \n",
    "y_pred_reg = reg.predict(X_val_pca)\n",
    "print('balanced accuracy:',balanced_accuracy_score(y_val, y_pred_reg),'\\n', 'precision:',precision_score(y_val, y_pred_reg), '\\n', 'recall:', recall_score(y_val, y_pred_reg))\n",
    "\n",
    "#Prediction on test data\n",
    "y_pred_logistic_test = reg.predict(X_test_pca)\n",
    "\n",
    "#Exporting prediction to cvs file\n",
    "#export_scv('logistic_predictions.csv', y_pred_logistic_test)\n"
   ]
  },
  {
   "cell_type": "markdown",
   "metadata": {},
   "source": [
    "## Multi-layer Perceptron Classifier"
   ]
  },
  {
   "cell_type": "code",
   "execution_count": 10,
   "metadata": {},
   "outputs": [
    {
     "name": "stdout",
     "output_type": "stream",
     "text": [
      "balanced accuracy: 0.9696157501035549 \n",
      " precision: 0.9512195121951219 \n",
      " recall: 0.9512195121951219\n"
     ]
    }
   ],
   "source": [
    "from sklearn.neural_network import MLPClassifier\n",
    "\n",
    "#Logistic regression algorithm\n",
    "mlp = MLPClassifier(solver = 'adam', alpha = 0.00001, hidden_layer_sizes = (200,), activation = 'logistic', random_state = 3)\n",
    "mlp.fit(X_train_scaled, y_train)\n",
    "\n",
    "#Predict y values from X_val_pca and produce balanced accuracy, precision and recall  \n",
    "y_pred_mlp = mlp.predict(X_val_scaled)\n",
    "print('balanced accuracy:',balanced_accuracy_score(y_val, y_pred_mlp),'\\n', 'precision:',precision_score(y_val, y_pred_mlp), '\\n', 'recall:', recall_score(y_val, y_pred_mlp))\n",
    "\n",
    "#Prediction on test data\n",
    "y_pred_logistic_test = mlp.predict(X_test_scaled)\n",
    "\n",
    "#Exporting prediction to cvs file\n",
    "#export_scv('nnc_predictions.csv', y_pred_nnc_test)\n"
   ]
  }
 ],
 "metadata": {
  "kernelspec": {
   "display_name": "Assignment3",
   "language": "python",
   "name": "python3"
  },
  "language_info": {
   "codemirror_mode": {
    "name": "ipython",
    "version": 3
   },
   "file_extension": ".py",
   "mimetype": "text/x-python",
   "name": "python",
   "nbconvert_exporter": "python",
   "pygments_lexer": "ipython3",
   "version": "3.12.7"
  }
 },
 "nbformat": 4,
 "nbformat_minor": 2
}
